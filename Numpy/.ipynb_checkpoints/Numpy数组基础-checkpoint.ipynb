{
 "cells": [
  {
   "cell_type": "markdown",
   "id": "901bb4ed",
   "metadata": {},
   "source": [
    "# 1. Numpy数组的属性\n",
    "    每个数组有 nidm（数组的维度） 、 shape（数组每个维度的大小） 、size（数组的总大小） 属性、数组数据类型、数组每个数组元素字节大小的itemsize以及表示数组总字节大小的属性nbytes"
   ]
  },
  {
   "cell_type": "code",
   "execution_count": 8,
   "id": "29493b74",
   "metadata": {},
   "outputs": [
    {
     "name": "stdout",
     "output_type": "stream",
     "text": [
      "x3 ndim:  3\n",
      "x3 shape:  (3, 4, 5)\n",
      "x3 size:  60\n",
      "x3 itemsize:  4 bytes\n",
      "x3 nbytes:  240 bytes\n"
     ]
    }
   ],
   "source": [
    "import numpy as np\n",
    "np.random.seed(0)  # 设置随机种子，此后产生的随机数都会被记住\n",
    "\n",
    "x3 = np.random.randint(10, size=(3, 4, 5)) # 三维数组\n",
    "print(\"x3 ndim: \", x3.ndim)  # 获取维度\n",
    "print(\"x3 shape: \", x3.shape)  # 获取每个维度的大小\n",
    "print(\"x3 size: \", x3.size)  # 获取数组的总大小\n",
    "print(\"x3 itemsize: \", x3.itemsize, \"bytes\") # 获取每个元素的字节大小\n",
    "print(\"x3 nbytes: \", x3.nbytes, \"bytes\") # 获取数组的所有元素字节大小，并不是数组的总大小"
   ]
  },
  {
   "cell_type": "markdown",
   "id": "19113321",
   "metadata": {},
   "source": [
    "    一般来说，可以认为nbytes = itemsize * size"
   ]
  },
  {
   "cell_type": "markdown",
   "id": "ec97bbd7",
   "metadata": {},
   "source": [
    "# 2. 数组索引\n",
    "    Numpy的索引方式与Python列表一样，但有一点需要注意，Numpy数组是固定类型的。这意味着你试图将一个浮点型值插入一个整型数组时，浮点值会被截断成整型。并且这种截断是自动完成的，不会给你提示或警告。"
   ]
  },
  {
   "cell_type": "code",
   "execution_count": 13,
   "id": "74f289b6",
   "metadata": {},
   "outputs": [
    {
     "data": {
      "text/plain": [
       "array([3, 2, 3, 4, 5, 6, 7, 8, 9])"
      ]
     },
     "execution_count": 13,
     "metadata": {},
     "output_type": "execute_result"
    }
   ],
   "source": [
    "x = np.array([1,2,3,4,5,6,7,8,9], dtype=\"int32\")\n",
    "x[0] = 3.14159  # 想将float数据插入numpy的int数组,但最终发现插入的是被截取后的整型值\n",
    "x"
   ]
  },
  {
   "cell_type": "markdown",
   "id": "7e18d276",
   "metadata": {},
   "source": [
    "# 3. 数组切片\n",
    "    Numpy切片语法与Python列表的标准切片语法相同。为了获取数组 x 的一个切片，可以用以下方式：\n",
    "    x[start:stop:step] \n",
    "    如果以上三个参数都未指定，那么会被分别设置默认值start=0、stop=维度大小、step=1."
   ]
  },
  {
   "cell_type": "code",
   "execution_count": 16,
   "id": "bb4be4a1",
   "metadata": {},
   "outputs": [
    {
     "name": "stdout",
     "output_type": "stream",
     "text": [
      "x =  [0 1 2 3 4 5 6 7 8 9]\n",
      "x[::2] =  [0 2 4 6 8]\n",
      "x[1::2] =  [1 3 5 7 9]\n"
     ]
    }
   ],
   "source": [
    "x = np.arange(10)  # 创建一个含有10个元素的整型数组，元素值为[0,10)\n",
    "print(\"x = \", x)\n",
    "print(\"x[::2] = \", x[::2])  # 从头到尾且每隔一个元素\n",
    "print(\"x[1::2] = \", x[1::2])  # 第二个元素到末尾且每隔一个元素"
   ]
  },
  {
   "cell_type": "markdown",
   "id": "69059069",
   "metadata": {},
   "source": [
    "    当步长值为负值是，start参数和stop参数默认是被交换的。"
   ]
  },
  {
   "cell_type": "code",
   "execution_count": 17,
   "id": "6a5d03fc",
   "metadata": {},
   "outputs": [
    {
     "name": "stdout",
     "output_type": "stream",
     "text": [
      "x =  [0 1 2 3 4 5 6 7 8 9]\n",
      "x[::-1] =  [9 8 7 6 5 4 3 2 1 0]\n",
      "x[::-2] =  [9 7 5 3 1]\n"
     ]
    }
   ],
   "source": [
    "x = np.arange(10)  # 创建一个含有10个元素的整型数组，元素值为[0,10)\n",
    "print(\"x = \", x)\n",
    "print(\"x[::-1] = \", x[::-1])  # 所有元素，倒序(逆序)\n",
    "print(\"x[::-2] = \", x[::-2])  # 所有元素，倒序(逆序)，每隔一个元素"
   ]
  },
  {
   "cell_type": "markdown",
   "id": "3ad390b1",
   "metadata": {},
   "source": [
    "# 4. 数组的变形\n",
    "    数组变形最灵活的实现方式是通过reshape()函数来实现。"
   ]
  },
  {
   "cell_type": "code",
   "execution_count": 21,
   "id": "22394b4e",
   "metadata": {},
   "outputs": [
    {
     "name": "stdout",
     "output_type": "stream",
     "text": [
      "x =  [ 0  1  2  3  4  5  6  7  8  9 10 11]\n",
      "x.shape =  (12,)\n",
      "x =  [[ 0  1  2  3]\n",
      " [ 4  5  6  7]\n",
      " [ 8  9 10 11]]\n",
      "x.shape =  (3, 4)\n"
     ]
    }
   ],
   "source": [
    "x = np.arange(12)\n",
    "print(\"x = \", x)\n",
    "print(\"x.shape = \", x.shape)\n",
    "x = x.reshape((3, 4)) # 把一行12列的数组变成3行4列的数组\n",
    "print(\"x = \", x)\n",
    "print(\"x.shape = \", x.shape)"
   ]
  },
  {
   "cell_type": "markdown",
   "id": "4dc7413a",
   "metadata": {},
   "source": [
    "    另外一个常见的变形模式是将一个一维数组转变为二维的行或列的矩阵。可以通过reshape的方式实现，获取在一个切片操作中利用newaxis关键字（相当于增加一个维度）实现："
   ]
  },
  {
   "cell_type": "code",
   "execution_count": 28,
   "id": "03ee78ed",
   "metadata": {},
   "outputs": [
    {
     "name": "stdout",
     "output_type": "stream",
     "text": [
      "[[ 1  2  3  4  5  6  7  8  9 10]]\n",
      "[[ 1  2  3  4  5  6  7  8  9 10]]\n",
      "[[ 1  2  3  4  5]\n",
      " [ 6  7  8  9 10]]\n",
      "[[ 1]\n",
      " [ 2]\n",
      " [ 3]\n",
      " [ 4]\n",
      " [ 5]\n",
      " [ 6]\n",
      " [ 7]\n",
      " [ 8]\n",
      " [ 9]\n",
      " [10]]\n"
     ]
    }
   ],
   "source": [
    "x = np.array([1,2,3,4,5,6,7,8,9,10])\n",
    "print(x.reshape(1, -1))  # 复数表示自适应，根据size自动规划shape\n",
    "print(x[np.newaxis, :])\n",
    "print(x.reshape(2,5))  # 把1行10列的数组变成2行5列的数组\n",
    "print(x[:, np.newaxis])"
   ]
  },
  {
   "cell_type": "markdown",
   "id": "0e35dc7a",
   "metadata": {},
   "source": [
    "# 5. 数组拼接和分裂\n",
    "## 5.1 数组的拼接\n",
    "    拼接或连接Numpy中的两个数组主要由np.concatenate、np.vstack 和 np.hstack 实现。"
   ]
  },
  {
   "cell_type": "code",
   "execution_count": 44,
   "id": "c68030e1",
   "metadata": {},
   "outputs": [
    {
     "name": "stdout",
     "output_type": "stream",
     "text": [
      "[ 1  2  3  4  5  6  7  8  9 10]\n",
      "[ 1  2  3  4  5  6  7  8  9 10 11 12 13 14 15]\n",
      "==========\n",
      "[[ 1  2  3  4  5]\n",
      " [ 6  7  8  9 10]]\n",
      "x1.shape =  (2, 5)\n",
      "[[ 1  2  3  4  5]\n",
      " [ 6  7  8  9 10]\n",
      " [ 1  2  3  4  5]\n",
      " [ 6  7  8  9 10]]\n",
      "np.concatenate([x1, x1]).shape =  (4, 5)\n",
      "[[ 1  2  3  4  5  1  2  3  4  5]\n",
      " [ 6  7  8  9 10  6  7  8  9 10]]\n",
      "np.concatenate([x1, x1], axis=1).shape =  (2, 10)\n"
     ]
    }
   ],
   "source": [
    "x = np.array([1,2,3,4,5])\n",
    "y = np.array([6,7,8,9,10])\n",
    "print(np.concatenate([x, y]))  # np.concatenate 将数组元组或数组列表作为第一个参数\n",
    "z = np.array([11, 12, 13, 14 ,15])\n",
    "print(np.concatenate([x, y, z]))\n",
    "print(\"=\" * 10)\n",
    "# np.concatenate 也可用于二维数组拼接\n",
    "x1 = np.array([[1,2,3,4,5],[6,7,8,9,10]])\n",
    "print(x1)\n",
    "print(\"x1.shape = \", x1.shape)\n",
    "print(np.concatenate([x1, x1]))  # 默认为纵向拼接\n",
    "print(\"np.concatenate([x1, x1]).shape = \", np.concatenate([x1, x1]).shape)\n",
    "print(np.concatenate([x1, x1], axis=1))  # 横向拼接\n",
    "print(\"np.concatenate([x1, x1], axis=1).shape = \", np.concatenate([x1, x1], axis=1).shape)"
   ]
  },
  {
   "cell_type": "markdown",
   "id": "5dfa444f",
   "metadata": {},
   "source": [
    "    沿着固定维度处理数据时，使用np.vstack（垂直栈）和 np.hstack（水平栈）函数会更简洁"
   ]
  },
  {
   "cell_type": "code",
   "execution_count": 50,
   "id": "f7257777",
   "metadata": {},
   "outputs": [
    {
     "name": "stdout",
     "output_type": "stream",
     "text": [
      "[[1 2 3]\n",
      " [9 8 7]\n",
      " [6 5 4]]\n",
      "====================\n",
      "[[1 2 3 9 8 7]\n",
      " [1 2 3 6 5 4]]\n"
     ]
    }
   ],
   "source": [
    "x = np.array([1,2,3])\n",
    "grid = np.array([[9,8,7], [6,5,4]])\n",
    "\n",
    "# 垂直栈数组\n",
    "print(np.vstack([x, grid]))\n",
    "print(\"=\" * 20)\n",
    "y = np.array([[1,2,3], [1,2,3]])\n",
    "# 水平栈数组\n",
    "print(np.hstack([y, grid]))"
   ]
  },
  {
   "cell_type": "markdown",
   "id": "76906f5f",
   "metadata": {},
   "source": [
    "    与之类似，np.dstack 将沿着第三个维度拼接"
   ]
  },
  {
   "cell_type": "code",
   "execution_count": 57,
   "id": "44656ad4",
   "metadata": {},
   "outputs": [
    {
     "name": "stdout",
     "output_type": "stream",
     "text": [
      "[[[1 2 3]\n",
      "  [1 2 3]]\n",
      "\n",
      " [[4 5 6]\n",
      "  [4 5 6]]]\n",
      "x.shape = (2, 2, 3)\n",
      "====================\n"
     ]
    },
    {
     "data": {
      "text/plain": [
       "array([[[ 1,  2,  3,  7,  8,  9],\n",
       "        [ 1,  2,  3,  7,  8,  9]],\n",
       "\n",
       "       [[ 4,  5,  6, 10, 11, 12],\n",
       "        [ 4,  5,  6, 10, 11, 12]]])"
      ]
     },
     "execution_count": 57,
     "metadata": {},
     "output_type": "execute_result"
    }
   ],
   "source": [
    "x = np.array([[[1,2,3],[1,2,3]],[[4,5,6], [4,5,6]]])\n",
    "print(x)\n",
    "print(\"x.shape = {}\".format(x.shape))\n",
    "print(\"=\" * 20)\n",
    "\n",
    "z = np.array([[[7,8,9],[7,8,9]],[[10, 11, 12], [10, 11, 12]]])\n",
    "np.dstack([x, z])"
   ]
  },
  {
   "cell_type": "markdown",
   "id": "14753054",
   "metadata": {},
   "source": [
    "## 5.2 数组的分裂\n",
    "    分裂可以通过 np.spalit、 np.hsplit 和 np.vsplit 函数来实现。可以向以上函数传递一个索引列表作为参数,索引列表记录的时分裂点位置："
   ]
  },
  {
   "cell_type": "code",
   "execution_count": 59,
   "id": "fbe24e98",
   "metadata": {},
   "outputs": [
    {
     "name": "stdout",
     "output_type": "stream",
     "text": [
      "[array([1, 2, 3]), array([4, 5]), array([ 6,  7,  8,  9, 10, 11, 12, 13, 14, 15])]\n"
     ]
    }
   ],
   "source": [
    "x = np.array([1,2,3,4,5,6,7,8,9,10,11,12,13,14,15])\n",
    "print(np.split(x, [3,5]))"
   ]
  },
  {
   "cell_type": "markdown",
   "id": "2eceea84",
   "metadata": {},
   "source": [
    "    值得注意的时，N个分裂点会得到N+1个子数组。相关的np.hsplit 和 np.vsplit 的用法也类似："
   ]
  },
  {
   "cell_type": "code",
   "execution_count": 62,
   "id": "bd06dc4d",
   "metadata": {
    "scrolled": true
   },
   "outputs": [
    {
     "name": "stdout",
     "output_type": "stream",
     "text": [
      "[[ 0  1  2  3]\n",
      " [ 4  5  6  7]\n",
      " [ 8  9 10 11]\n",
      " [12 13 14 15]]\n",
      "====================\n",
      "[[0 1 2 3]\n",
      " [4 5 6 7]]\n",
      "\n",
      "[[ 8  9 10 11]\n",
      " [12 13 14 15]]\n",
      "====================\n",
      "[[ 0  1]\n",
      " [ 4  5]\n",
      " [ 8  9]\n",
      " [12 13]]\n",
      "\n",
      "[[ 2  3]\n",
      " [ 6  7]\n",
      " [10 11]\n",
      " [14 15]]\n"
     ]
    }
   ],
   "source": [
    "grid = np.arange(16).reshape((4,4))\n",
    "print(grid)\n",
    "print(\"=\" * 20)\n",
    "x1, x2 = np.vsplit(grid, [2])\n",
    "print(x1)\n",
    "print()\n",
    "print(x2)\n",
    "print(\"=\" * 20)\n",
    "x1, x2 = np.hsplit(grid, [2])\n",
    "print(x1)\n",
    "print()\n",
    "print(x2)"
   ]
  },
  {
   "cell_type": "markdown",
   "id": "b607971f",
   "metadata": {},
   "source": [
    "    同样， np.dsplit将数组沿着第三个维度分裂"
   ]
  },
  {
   "cell_type": "code",
   "execution_count": 67,
   "id": "21c0a7ab",
   "metadata": {},
   "outputs": [
    {
     "name": "stdout",
     "output_type": "stream",
     "text": [
      "[[[ 1  2  3  4  5]\n",
      "  [ 6  7  8  9 10]]\n",
      "\n",
      " [[11 12 13 14 15]\n",
      "  [16 17 18 19 20]]]\n",
      "====================\n",
      "[[[ 1  2]\n",
      "  [ 6  7]]\n",
      "\n",
      " [[11 12]\n",
      "  [16 17]]]\n",
      "\n",
      "[[[ 3  4  5]\n",
      "  [ 8  9 10]]\n",
      "\n",
      " [[13 14 15]\n",
      "  [18 19 20]]]\n"
     ]
    }
   ],
   "source": [
    "grid = np.array([[[1,2,3,4,5],[6,7,8,9,10]],[[11,12,13,14,15],[16,17,18,19,20]]])\n",
    "print(grid)\n",
    "print(\"=\" * 20)\n",
    "\n",
    "x1 ,x2 = np.dsplit(grid, [2])\n",
    "print(x1)\n",
    "print()\n",
    "print(x2)"
   ]
  }
 ],
 "metadata": {
  "kernelspec": {
   "display_name": "Python 3",
   "language": "python",
   "name": "python3"
  },
  "language_info": {
   "codemirror_mode": {
    "name": "ipython",
    "version": 3
   },
   "file_extension": ".py",
   "mimetype": "text/x-python",
   "name": "python",
   "nbconvert_exporter": "python",
   "pygments_lexer": "ipython3",
   "version": "3.8.8"
  }
 },
 "nbformat": 4,
 "nbformat_minor": 5
}
